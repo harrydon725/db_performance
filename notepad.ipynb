{
 "cells": [
  {
   "cell_type": "code",
   "execution_count": 2,
   "id": "0471d7a6",
   "metadata": {},
   "outputs": [],
   "source": [
    "%reload_ext sql\n",
    "%sql postgresql+psycopg2://localhost:5432/db_performance"
   ]
  },
  {
   "cell_type": "code",
   "execution_count": 3,
   "id": "fdefe7c8",
   "metadata": {},
   "outputs": [
    {
     "name": "stdout",
     "output_type": "stream",
     "text": [
      " * postgresql+psycopg2://localhost:5432/db_performance\n",
      "5 rows affected.\n"
     ]
    },
    {
     "data": {
      "text/html": [
       "<table>\n",
       "    <thead>\n",
       "        <tr>\n",
       "            <th>id</th>\n",
       "            <th>first_name</th>\n",
       "            <th>last_name</th>\n",
       "            <th>age</th>\n",
       "            <th>course_id</th>\n",
       "        </tr>\n",
       "    </thead>\n",
       "    <tbody>\n",
       "        <tr>\n",
       "            <td>1</td>\n",
       "            <td>John</td>\n",
       "            <td>Doe</td>\n",
       "            <td>21</td>\n",
       "            <td>1</td>\n",
       "        </tr>\n",
       "        <tr>\n",
       "            <td>2</td>\n",
       "            <td>Jane</td>\n",
       "            <td>Smith</td>\n",
       "            <td>22</td>\n",
       "            <td>2</td>\n",
       "        </tr>\n",
       "        <tr>\n",
       "            <td>3</td>\n",
       "            <td>Mark</td>\n",
       "            <td>Twain</td>\n",
       "            <td>20</td>\n",
       "            <td>1</td>\n",
       "        </tr>\n",
       "        <tr>\n",
       "            <td>4</td>\n",
       "            <td>Emily</td>\n",
       "            <td>Dickinson</td>\n",
       "            <td>22</td>\n",
       "            <td>3</td>\n",
       "        </tr>\n",
       "        <tr>\n",
       "            <td>5</td>\n",
       "            <td>Louisa</td>\n",
       "            <td>Alcott</td>\n",
       "            <td>21</td>\n",
       "            <td>2</td>\n",
       "        </tr>\n",
       "    </tbody>\n",
       "</table>"
      ],
      "text/plain": [
       "[(1, 'John', 'Doe', 21, 1),\n",
       " (2, 'Jane', 'Smith', 22, 2),\n",
       " (3, 'Mark', 'Twain', 20, 1),\n",
       " (4, 'Emily', 'Dickinson', 22, 3),\n",
       " (5, 'Louisa', 'Alcott', 21, 2)]"
      ]
     },
     "execution_count": 3,
     "metadata": {},
     "output_type": "execute_result"
    }
   ],
   "source": [
    "%%sql\n",
    "\n",
    "select * from students"
   ]
  },
  {
   "cell_type": "code",
   "execution_count": 4,
   "id": "a4a0e7e3",
   "metadata": {},
   "outputs": [
    {
     "name": "stdout",
     "output_type": "stream",
     "text": [
      " * postgresql+psycopg2://localhost:5432/db_performance\n",
      "3 rows affected.\n"
     ]
    },
    {
     "data": {
      "text/html": [
       "<table>\n",
       "    <thead>\n",
       "        <tr>\n",
       "            <th>QUERY PLAN</th>\n",
       "        </tr>\n",
       "    </thead>\n",
       "    <tbody>\n",
       "        <tr>\n",
       "            <td>Seq Scan on students  (cost=0.00..10.70 rows=70 width=1044) (actual time=0.038..0.039 rows=5 loops=1)</td>\n",
       "        </tr>\n",
       "        <tr>\n",
       "            <td>Planning Time: 0.092 ms</td>\n",
       "        </tr>\n",
       "        <tr>\n",
       "            <td>Execution Time: 0.258 ms</td>\n",
       "        </tr>\n",
       "    </tbody>\n",
       "</table>"
      ],
      "text/plain": [
       "[('Seq Scan on students  (cost=0.00..10.70 rows=70 width=1044) (actual time=0.038..0.039 rows=5 loops=1)',),\n",
       " ('Planning Time: 0.092 ms',),\n",
       " ('Execution Time: 0.258 ms',)]"
      ]
     },
     "execution_count": 4,
     "metadata": {},
     "output_type": "execute_result"
    }
   ],
   "source": [
    "%%sql\n",
    "\n",
    "EXPLAIN ANALYZE SELECT * FROM students;\n",
    "\n"
   ]
  },
  {
   "cell_type": "markdown",
   "id": "ea057d15",
   "metadata": {},
   "source": [
    "Exercise 1\n",
    "Write a simple SELECT query to retrieve all students who are younger than 25 years old and measure its execution time using the EXPLAIN ANALYZE command in PostgreSQL.\n",
    "\n",
    "Exercise 2 – a more complex query\n",
    "Write a SELECT query using a JOIN to retrieve all students and their associated course name."
   ]
  },
  {
   "cell_type": "code",
   "execution_count": 6,
   "id": "f636cb30",
   "metadata": {},
   "outputs": [
    {
     "name": "stdout",
     "output_type": "stream",
     "text": [
      " * postgresql+psycopg2://localhost:5432/db_performance\n",
      "4 rows affected.\n"
     ]
    },
    {
     "data": {
      "text/html": [
       "<table>\n",
       "    <thead>\n",
       "        <tr>\n",
       "            <th>QUERY PLAN</th>\n",
       "        </tr>\n",
       "    </thead>\n",
       "    <tbody>\n",
       "        <tr>\n",
       "            <td>Seq Scan on students  (cost=0.00..10.88 rows=23 width=1044) (actual time=0.013..0.015 rows=5 loops=1)</td>\n",
       "        </tr>\n",
       "        <tr>\n",
       "            <td>&nbsp;&nbsp;Filter: (age &lt; 25)</td>\n",
       "        </tr>\n",
       "        <tr>\n",
       "            <td>Planning Time: 0.062 ms</td>\n",
       "        </tr>\n",
       "        <tr>\n",
       "            <td>Execution Time: 0.206 ms</td>\n",
       "        </tr>\n",
       "    </tbody>\n",
       "</table>"
      ],
      "text/plain": [
       "[('Seq Scan on students  (cost=0.00..10.88 rows=23 width=1044) (actual time=0.013..0.015 rows=5 loops=1)',),\n",
       " ('  Filter: (age < 25)',),\n",
       " ('Planning Time: 0.062 ms',),\n",
       " ('Execution Time: 0.206 ms',)]"
      ]
     },
     "execution_count": 6,
     "metadata": {},
     "output_type": "execute_result"
    }
   ],
   "source": [
    "%%sql\n",
    "--Excercise 1\n",
    "EXPLAIN ANALYZE SELECT * FROM students where age < 25"
   ]
  },
  {
   "cell_type": "code",
   "execution_count": 10,
   "id": "8a5c1726",
   "metadata": {},
   "outputs": [
    {
     "name": "stdout",
     "output_type": "stream",
     "text": [
      " * postgresql+psycopg2://localhost:5432/db_performance\n",
      "7 rows affected.\n"
     ]
    },
    {
     "data": {
      "text/html": [
       "<table>\n",
       "    <thead>\n",
       "        <tr>\n",
       "            <th>QUERY PLAN</th>\n",
       "        </tr>\n",
       "    </thead>\n",
       "    <tbody>\n",
       "        <tr>\n",
       "            <td>Hash Join  (cost=11.57..24.20 rows=70 width=1564) (actual time=0.007..0.008 rows=0 loops=1)</td>\n",
       "        </tr>\n",
       "        <tr>\n",
       "            <td>&nbsp;&nbsp;Hash Cond: (courses.id = students.course_id)</td>\n",
       "        </tr>\n",
       "        <tr>\n",
       "            <td>&nbsp;&nbsp;-&gt;  Seq Scan on courses  (cost=0.00..11.40 rows=140 width=520) (actual time=0.006..0.007 rows=0 loops=1)</td>\n",
       "        </tr>\n",
       "        <tr>\n",
       "            <td>&nbsp;&nbsp;-&gt;  Hash  (cost=10.70..10.70 rows=70 width=1044) (never executed)</td>\n",
       "        </tr>\n",
       "        <tr>\n",
       "            <td>&nbsp;&nbsp;&nbsp;&nbsp;&nbsp;&nbsp;&nbsp;&nbsp;-&gt;  Seq Scan on students  (cost=0.00..10.70 rows=70 width=1044) (never executed)</td>\n",
       "        </tr>\n",
       "        <tr>\n",
       "            <td>Planning Time: 0.247 ms</td>\n",
       "        </tr>\n",
       "        <tr>\n",
       "            <td>Execution Time: 0.051 ms</td>\n",
       "        </tr>\n",
       "    </tbody>\n",
       "</table>"
      ],
      "text/plain": [
       "[('Hash Join  (cost=11.57..24.20 rows=70 width=1564) (actual time=0.007..0.008 rows=0 loops=1)',),\n",
       " ('  Hash Cond: (courses.id = students.course_id)',),\n",
       " ('  ->  Seq Scan on courses  (cost=0.00..11.40 rows=140 width=520) (actual time=0.006..0.007 rows=0 loops=1)',),\n",
       " ('  ->  Hash  (cost=10.70..10.70 rows=70 width=1044) (never executed)',),\n",
       " ('        ->  Seq Scan on students  (cost=0.00..10.70 rows=70 width=1044) (never executed)',),\n",
       " ('Planning Time: 0.247 ms',),\n",
       " ('Execution Time: 0.051 ms',)]"
      ]
     },
     "execution_count": 10,
     "metadata": {},
     "output_type": "execute_result"
    }
   ],
   "source": [
    "%%sql\n",
    "-- Exercise 2 \n",
    "EXPLAIN ANALYZE\n",
    "SELECT * \n",
    "FROM students \n",
    "JOIN courses \n",
    "ON students.course_id = courses.id;"
   ]
  }
 ],
 "metadata": {
  "kernelspec": {
   "display_name": ".aeVenv",
   "language": "python",
   "name": "python3"
  },
  "language_info": {
   "codemirror_mode": {
    "name": "ipython",
    "version": 3
   },
   "file_extension": ".py",
   "mimetype": "text/x-python",
   "name": "python",
   "nbconvert_exporter": "python",
   "pygments_lexer": "ipython3",
   "version": "3.11.2"
  }
 },
 "nbformat": 4,
 "nbformat_minor": 5
}
